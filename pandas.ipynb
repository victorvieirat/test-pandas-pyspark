{
 "cells": [
  {
   "cell_type": "code",
   "execution_count": 22,
   "metadata": {},
   "outputs": [],
   "source": [
    "import pandas as pd\n",
    "\n",
    "PATH_DATA = 'data/'\n",
    "FILE = 'votacao_candidato_munzona_2022_BRASIL.csv'"
   ]
  },
  {
   "cell_type": "code",
   "execution_count": 23,
   "metadata": {},
   "outputs": [],
   "source": [
    "colunas_relevantes = [\"NR_TURNO\", \"DS_ELEICAO\", \"TP_ABRANGENCIA\", \"SG_UF\", \"NM_MUNICIPIO\", \"NR_ZONA\", \"DS_CARGO\", \"NR_CANDIDATO\", \"NM_CANDIDATO\", \"NM_URNA_CANDIDATO\", \"DS_SITUACAO_CANDIDATURA\",\n",
    "                      \"NR_PARTIDO\", \"SG_PARTIDO\", \"NM_PARTIDO\", \"NM_COLIGACAO\", \"DS_COMPOSICAO_COLIGACAO\", \"ST_VOTO_EM_TRANSITO\", \"QT_VOTOS_NOMINAIS\", \"NM_TIPO_DESTINACAO_VOTOS\", \"QT_VOTOS_NOMINAIS_VALIDOS\", \"DS_SIT_TOT_TURNO\"]\n",
    "colunas_relevantes_2 = [\"NR_TURNO\",\"SG_UF\",\"NM_MUNICIPIO\",\"NR_CANDIDATO\",\"NM_URNA_CANDIDATO\",\"SG_PARTIDO\",\"ST_VOTO_EM_TRANSITO\",\"QT_VOTOS_NOMINAIS_VALIDOS\",\"DS_SIT_TOT_TURNO\",\"TP_AGREMIACAO\",\"DS_CARGO\"]\n",
    "colunas_relevantes_2.sort()"
   ]
  },
  {
   "cell_type": "code",
   "execution_count": 31,
   "metadata": {},
   "outputs": [],
   "source": [
    "import time\n",
    "def create_monitor_file():\n",
    "    header = \"type,function,seconds\"\n",
    "    try:\n",
    "        with open(\"monitor.txt\", \"x\") as file:\n",
    "            file.write(header)\n",
    "    except FileExistsError:\n",
    "        pass\n",
    "def execution_time_logger(name,tipo):\n",
    "    def decorator(func):\n",
    "        def wrapper(*args, **kwargs):\n",
    "            start_time = time.time()\n",
    "            result = func(*args, **kwargs)\n",
    "            end_time = time.time()\n",
    "            execution_time = round(end_time - start_time,2)\n",
    "\n",
    "            create_monitor_file()\n",
    "            with open(\"monitor.txt\", \"a\") as file:\n",
    "                file.write(f'\\n{tipo},{name},{execution_time}')\n",
    "            return result\n",
    "        return wrapper\n",
    "    return decorator\n"
   ]
  },
  {
   "cell_type": "code",
   "execution_count": 39,
   "metadata": {},
   "outputs": [],
   "source": [
    "@execution_time_logger(name=\"leitura\",tipo='pandas')\n",
    "def read():\n",
    "    df = pd.read_csv(PATH_DATA +FILE,delimiter=\";\",decimal=\",\",encoding=\"latin-1\",usecols=colunas_relevantes_2)\n",
    "    return df\n",
    "\n",
    "@execution_time_logger(name=\"transformacao\",tipo='pandas')\n",
    "def transforma(df):\n",
    "    def transforma_uf(uf):\n",
    "        if uf == 'EXTERIOR':\n",
    "            return uf\n",
    "        else:\n",
    "            return  f'BRASIL - {uf}'\n",
    "\n",
    "    df1 = df.copy()\n",
    "\n",
    "    #Ajuste de Variáveis\n",
    "    df1.loc[df1['SG_UF'] =='ZZ','SG_UF'] = 'EXTERIOR'\n",
    "    df1['SG_UF_DETALHAMENTO'] = df1['SG_UF'].apply(lambda x:transforma_uf(x))\n",
    "    df1.loc[df1['SG_UF'] == 'EXTERIOR','NM_MUNICIPIO'] = 'EXTERIOR'\n",
    "\n",
    "    # Agrupamento\n",
    "    colunas_agrupar = list(df1.columns.values).copy()\n",
    "    colunas_agrupar.remove('QT_VOTOS_NOMINAIS_VALIDOS')\n",
    "    df1 = df1.groupby(colunas_agrupar).sum().reset_index()\n",
    "\n",
    "    #Ajuste de Variáveis\n",
    "    df1['ST_VOTO_EM_TRANSITO'] = df1['ST_VOTO_EM_TRANSITO'].replace({'N': 'NÃO','S':'SIM'})\n",
    "    df1['NR_TURNO'] = df1['NR_TURNO'].replace({1: 'PRIMEIRO',2:'SEGUNDO'})\n",
    "    df1['DS_SIT_TOT_TURNO'] = df1['DS_SIT_TOT_TURNO'].replace({'ELEITO POR QP': 'ELEITO POR QUOCIENTE PARTIDÁRIO'})\n",
    "\n",
    "    #Maiúscula\n",
    "    df1['DS_CARGO'] = df1['DS_CARGO'].str.upper()\n",
    "    df1['TP_AGREMIACAO'] = df1['TP_AGREMIACAO'].str.upper()\n",
    "    return df1\n",
    "\n",
    "@execution_time_logger(name=\"parquet\",tipo='pandas')\n",
    "def save(df1):\n",
    "    SAVE_FOLDER = 'data/servico/'\n",
    "    df1.to_parquet(SAVE_FOLDER+'eleicoes_servico.parquet')"
   ]
  },
  {
   "cell_type": "code",
   "execution_count": 42,
   "metadata": {},
   "outputs": [
    {
     "name": "stderr",
     "output_type": "stream",
     "text": [
      "/opt/conda/lib/python3.11/site-packages/pyarrow/pandas_compat.py:373: FutureWarning: is_sparse is deprecated and will be removed in a future version. Check `isinstance(dtype, pd.SparseDtype)` instead.\n",
      "  if _pandas_api.is_sparse(col):\n"
     ]
    },
    {
     "name": "stdout",
     "output_type": "stream",
     "text": [
      "0\n"
     ]
    },
    {
     "name": "stderr",
     "output_type": "stream",
     "text": [
      "/opt/conda/lib/python3.11/site-packages/pyarrow/pandas_compat.py:373: FutureWarning: is_sparse is deprecated and will be removed in a future version. Check `isinstance(dtype, pd.SparseDtype)` instead.\n",
      "  if _pandas_api.is_sparse(col):\n"
     ]
    },
    {
     "name": "stdout",
     "output_type": "stream",
     "text": [
      "1\n"
     ]
    },
    {
     "name": "stderr",
     "output_type": "stream",
     "text": [
      "/opt/conda/lib/python3.11/site-packages/pyarrow/pandas_compat.py:373: FutureWarning: is_sparse is deprecated and will be removed in a future version. Check `isinstance(dtype, pd.SparseDtype)` instead.\n",
      "  if _pandas_api.is_sparse(col):\n"
     ]
    },
    {
     "name": "stdout",
     "output_type": "stream",
     "text": [
      "2\n"
     ]
    },
    {
     "name": "stderr",
     "output_type": "stream",
     "text": [
      "/opt/conda/lib/python3.11/site-packages/pyarrow/pandas_compat.py:373: FutureWarning: is_sparse is deprecated and will be removed in a future version. Check `isinstance(dtype, pd.SparseDtype)` instead.\n",
      "  if _pandas_api.is_sparse(col):\n"
     ]
    },
    {
     "name": "stdout",
     "output_type": "stream",
     "text": [
      "3\n"
     ]
    },
    {
     "name": "stderr",
     "output_type": "stream",
     "text": [
      "/opt/conda/lib/python3.11/site-packages/pyarrow/pandas_compat.py:373: FutureWarning: is_sparse is deprecated and will be removed in a future version. Check `isinstance(dtype, pd.SparseDtype)` instead.\n",
      "  if _pandas_api.is_sparse(col):\n"
     ]
    },
    {
     "name": "stdout",
     "output_type": "stream",
     "text": [
      "4\n"
     ]
    },
    {
     "name": "stderr",
     "output_type": "stream",
     "text": [
      "/opt/conda/lib/python3.11/site-packages/pyarrow/pandas_compat.py:373: FutureWarning: is_sparse is deprecated and will be removed in a future version. Check `isinstance(dtype, pd.SparseDtype)` instead.\n",
      "  if _pandas_api.is_sparse(col):\n"
     ]
    },
    {
     "name": "stdout",
     "output_type": "stream",
     "text": [
      "5\n"
     ]
    },
    {
     "name": "stderr",
     "output_type": "stream",
     "text": [
      "/opt/conda/lib/python3.11/site-packages/pyarrow/pandas_compat.py:373: FutureWarning: is_sparse is deprecated and will be removed in a future version. Check `isinstance(dtype, pd.SparseDtype)` instead.\n",
      "  if _pandas_api.is_sparse(col):\n"
     ]
    },
    {
     "name": "stdout",
     "output_type": "stream",
     "text": [
      "6\n"
     ]
    },
    {
     "name": "stderr",
     "output_type": "stream",
     "text": [
      "/opt/conda/lib/python3.11/site-packages/pyarrow/pandas_compat.py:373: FutureWarning: is_sparse is deprecated and will be removed in a future version. Check `isinstance(dtype, pd.SparseDtype)` instead.\n",
      "  if _pandas_api.is_sparse(col):\n"
     ]
    },
    {
     "name": "stdout",
     "output_type": "stream",
     "text": [
      "7\n"
     ]
    },
    {
     "name": "stderr",
     "output_type": "stream",
     "text": [
      "/opt/conda/lib/python3.11/site-packages/pyarrow/pandas_compat.py:373: FutureWarning: is_sparse is deprecated and will be removed in a future version. Check `isinstance(dtype, pd.SparseDtype)` instead.\n",
      "  if _pandas_api.is_sparse(col):\n"
     ]
    },
    {
     "name": "stdout",
     "output_type": "stream",
     "text": [
      "8\n"
     ]
    },
    {
     "name": "stderr",
     "output_type": "stream",
     "text": [
      "/opt/conda/lib/python3.11/site-packages/pyarrow/pandas_compat.py:373: FutureWarning: is_sparse is deprecated and will be removed in a future version. Check `isinstance(dtype, pd.SparseDtype)` instead.\n",
      "  if _pandas_api.is_sparse(col):\n"
     ]
    },
    {
     "name": "stdout",
     "output_type": "stream",
     "text": [
      "9\n"
     ]
    }
   ],
   "source": [
    "for i in range(10):\n",
    "    df = read()\n",
    "    df1 = transforma(df)\n",
    "    del df\n",
    "    save(df1)\n",
    "    del df1\n",
    "    print(i)"
   ]
  },
  {
   "cell_type": "code",
   "execution_count": 35,
   "metadata": {},
   "outputs": [],
   "source": [
    "\n",
    "df1.to_parquet(SAVE_FOLDER+'eleicoes_servico.parquet.gzip',compression='gzip')\n",
    "df1.to_csv(SAVE_FOLDER+'eleicoes_servico.csv')"
   ]
  },
  {
   "cell_type": "markdown",
   "metadata": {},
   "source": [
    "- Qual a quantidade total de votos por partido (top 10 gráfico de barras)? SG_PARTIDO,QT_VOTOS_NOMINAIS_VALIDOS\n",
    "- Quais são os estados (UF) com o maior e menor número de votos válidos (mapa de calor)? SG_UF,QT_VOTOS_NOMINAIS_VALIDOS\n",
    "- Quais os dez municípios com a maior quantidade de votos e os dez com a menor quantidade (livre)? NM_MUNICIPIO,QT_VOTOS_NOMINAIS_VALIDOS\n",
    "- Qual a quantidade de votos nominais por partido (PARTIDO) e como isso varia entre os diferentes estados (UF) (top três por estado – livre)? SG_UF,QT_VOTOS_NOMINAIS_VALIDOS,SG_PARTIDO\n",
    "- Quais os três municípios (MUNICIPIO) com a maior taxa de votos em trânsito (VOTO_EM_TRANSITO) em relação ao total de votos válidos do município (livre)? NM_MUNICIPIO,QT_VOTOS_NOMINAIS_VALIDOS,ST_VOTO_EM_TRANSITO\n",
    "- Qual a quantidade de votos por turno (pizza)? NR_TURNO,QT_VOTOS_NOMINAIS_VALIDOS\n",
    "- Qual os 5 números de candidatos com maior frequência (gráfico de barras horizontais)? NM_URNA_CANDIDATO\n",
    "- Quais os dez partidos com maior número de votos por estado (gráfico de barras)?  SG_PARTIDO,QT_VOTOS_NOMINAIS_VALIDOS,SG_UF\n",
    "- Qual foi o candidato com partido e estado com maior número de votos nominais em uma única eleição por cargo (livre)?  SG_PARTIDO,NM_URNA_CANDIDATO,QT_VOTOS_NOMINAIS_VALIDOS,SG_UF,NR_TURNO\n",
    "- Qual a quantidade de candidatos eleitos que participaram de coligações e a quantidade de candidatos eleitos sem coligação (pizza)? TP_AGREMIACAO,DS_SIT_TOT_TURNO"
   ]
  }
 ],
 "metadata": {
  "kernelspec": {
   "display_name": "base",
   "language": "python",
   "name": "python3"
  },
  "language_info": {
   "codemirror_mode": {
    "name": "ipython",
    "version": 3
   },
   "file_extension": ".py",
   "mimetype": "text/x-python",
   "name": "python",
   "nbconvert_exporter": "python",
   "pygments_lexer": "ipython3",
   "version": "3.11.5"
  }
 },
 "nbformat": 4,
 "nbformat_minor": 2
}
